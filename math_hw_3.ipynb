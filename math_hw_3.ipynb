{
 "cells": [
  {
   "cell_type": "markdown",
   "metadata": {},
   "source": [
    "# Level 0"
   ]
  },
  {
   "cell_type": "code",
   "execution_count": null,
   "metadata": {},
   "outputs": [],
   "source": [
    "import numpy as np"
   ]
  },
  {
   "cell_type": "code",
   "execution_count": 268,
   "metadata": {},
   "outputs": [
    {
     "data": {
      "text/plain": [
       "array([[-1, -4, -2],\n",
       "       [ 1, -3, -4],\n",
       "       [-2,  7,  9]])"
      ]
     },
     "execution_count": 268,
     "metadata": {},
     "output_type": "execute_result"
    }
   ],
   "source": [
    "def make_matrix(matrix_type):\n",
    "    rng = np.random.default_rng()\n",
    "    \n",
    "    while True:\n",
    "        src = (20 * rng.random((3,3)) - 10).astype(int)\n",
    "        \n",
    "        if matrix_type == 'diag_orth':\n",
    "            diag = np.diag(src)\n",
    "            if np.array_equal(diag.dot(diag.T),np.eye(3)) and not np.array_equal(diag, np.eye(3)):\n",
    "                return diag\n",
    "        \n",
    "        if matrix_type == 'triu_orth':\n",
    "            triu = np.triu(src)\n",
    "            if np.array_equal(triu.dot(triu.T),np.eye(3)):\n",
    "                return triu\n",
    "            \n",
    "        if matrix_type == 'tril_orth':\n",
    "            tril = np.tril(src)\n",
    "            if np.array_equal(tril.dot(tril.T),np.eye(3)):\n",
    "                return tril\n",
    "            \n",
    "        if matrix_type == 'det_one' and np.linalg.det(src) == 1 and src.all():\n",
    "            return src\n",
    "    \n",
    "make_matrix('det_one')"
   ]
  },
  {
   "cell_type": "code",
   "execution_count": 269,
   "metadata": {},
   "outputs": [
    {
     "name": "stdout",
     "output_type": "stream",
     "text": [
      "[[2 2]\n",
      " [1 3]]\n"
     ]
    }
   ],
   "source": [
    "m = np.array([[2, 2],\n",
    "              [1, 3]])\n",
    "print(m)"
   ]
  },
  {
   "cell_type": "code",
   "execution_count": 277,
   "metadata": {},
   "outputs": [
    {
     "name": "stdout",
     "output_type": "stream",
     "text": [
      "Собственное значение: 1.0\n",
      "Собственный вектор: [-0.89442719  0.4472136 ] \n",
      "\n",
      "Собственное значение: 4.0\n",
      "Собственный вектор: [-0.70710678 -0.70710678] \n",
      "\n"
     ]
    }
   ],
   "source": [
    "l, A = np.linalg.eig(m)\n",
    "for i in range(len(l)):\n",
    "    print('Собственное значение:', l[i])\n",
    "    print('Собственный вектор:', A[:,i],'\\n')"
   ]
  },
  {
   "cell_type": "markdown",
   "metadata": {},
   "source": [
    "# Level 1"
   ]
  },
  {
   "cell_type": "markdown",
   "metadata": {},
   "source": [
    "## Ex 1"
   ]
  },
  {
   "cell_type": "code",
   "execution_count": 219,
   "metadata": {},
   "outputs": [
    {
     "name": "stdout",
     "output_type": "stream",
     "text": [
      "[[1 2]\n",
      " [2 3]]\n"
     ]
    }
   ],
   "source": [
    "m = np.array([[1, 2],\n",
    "              [2, 3]])\n",
    "print(m)"
   ]
  },
  {
   "cell_type": "code",
   "execution_count": 220,
   "metadata": {},
   "outputs": [
    {
     "name": "stdout",
     "output_type": "stream",
     "text": [
      "Eigenvalues\n",
      "[-0.23606798  4.23606798]\n",
      "\n",
      "Eigenvectors\n",
      "[[-0.85065081 -0.52573111]\n",
      " [ 0.52573111 -0.85065081]]\n"
     ]
    }
   ],
   "source": [
    "a, U = np.linalg.eig(m)\n",
    "print('Eigenvalues')\n",
    "print(a)\n",
    "print('\\nEigenvectors')\n",
    "print(U)"
   ]
  },
  {
   "cell_type": "code",
   "execution_count": 221,
   "metadata": {},
   "outputs": [
    {
     "name": "stdout",
     "output_type": "stream",
     "text": [
      "[[1. 2.]\n",
      " [2. 3.]]\n"
     ]
    }
   ],
   "source": [
    "A = U @ np.diag(a) @ U.T\n",
    "print(A)"
   ]
  },
  {
   "cell_type": "markdown",
   "metadata": {},
   "source": [
    "## Ex 2"
   ]
  },
  {
   "cell_type": "code",
   "execution_count": 222,
   "metadata": {},
   "outputs": [],
   "source": [
    "from sklearn.datasets import load_digits\n",
    "import matplotlib.pyplot as plt\n",
    "from sklearn.decomposition import PCA\n",
    "from sklearn.metrics import mean_squared_error as MSE"
   ]
  },
  {
   "cell_type": "code",
   "execution_count": 223,
   "metadata": {},
   "outputs": [],
   "source": [
    "digits = load_digits()\n",
    "\n",
    "def get_mse(components):\n",
    "    pca = PCA(n_components=components)\n",
    "    \n",
    "    errors = []\n",
    "    for image in digits.images:\n",
    "        pred = pca.inverse_transform(pca.fit_transform(image))\n",
    "        errors.append(MSE(image, pred))\n",
    "        \n",
    "    return np.asarray(errors, dtype=float).mean()"
   ]
  },
  {
   "cell_type": "code",
   "execution_count": 224,
   "metadata": {},
   "outputs": [
    {
     "data": {
      "image/png": "[encoded data removed]",
      "text/plain": [
       "<Figure size 432x288 with 1 Axes>"
      ]
     },
     "metadata": {
      "needs_background": "light"
     },
     "output_type": "display_data"
    }
   ],
   "source": [
    "plt.plot([i for i in range(1,8)],[get_mse(i) for i in range(1,8)], 'x-g')\n",
    "plt.ylabel('MSE')\n",
    "plt.xlabel('Number of PCA components')\n",
    "plt.show()"
   ]
  }
 ],
 "metadata": {
  "kernelspec": {
   "display_name": "Python 3",
   "language": "python",
   "name": "python3"
  },
  "language_info": {
   "codemirror_mode": {
    "name": "ipython",
    "version": 3
   },
   "file_extension": ".py",
   "mimetype": "text/x-python",
   "name": "python",
   "nbconvert_exporter": "python",
   "pygments_lexer": "ipython3",
   "version": "3.8.5"
  }
 },
 "nbformat": 4,
 "nbformat_minor": 4
}
